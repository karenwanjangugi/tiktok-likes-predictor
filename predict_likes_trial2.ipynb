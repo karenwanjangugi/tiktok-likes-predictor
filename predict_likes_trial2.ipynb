{
 "cells": [
  {
   "cell_type": "markdown",
   "metadata": {},
   "source": [
    "## 1. Imports\n",
    "All necessary libraries are imported here."
   ]
  },
  {
   "cell_type": "code",
   "execution_count": 35,
   "metadata": {},
   "outputs": [],
   "source": [
    "import sqlite3\n",
    "import pandas as pd\n",
    "import numpy as np\n",
    "from sklearn.model_selection import train_test_split\n",
    "from sklearn.impute import SimpleImputer, KNNImputer\n",
    "from sklearn.metrics import mean_absolute_error, r2_score\n",
    "import xgboost as xgb\n",
    "import warnings\n",
    "\n",
    "warnings.filterwarnings('ignore')\n",
    "pd.options.display.max_columns = 50"
   ]
  },
  {
   "cell_type": "markdown",
   "metadata": {},
   "source": [
    "## 2. Data Loading\n",
    "Load the dataset from the SQLite database."
   ]
  },
  {
   "cell_type": "code",
   "execution_count": 36,
   "metadata": {},
   "outputs": [
    {
     "name": "stdout",
     "output_type": "stream",
     "text": [
      "Data loaded successfully. First 5 rows:\n"
     ]
    },
    {
     "data": {
      "text/html": [
       "<div>\n",
       "<style scoped>\n",
       "    .dataframe tbody tr th:only-of-type {\n",
       "        vertical-align: middle;\n",
       "    }\n",
       "\n",
       "    .dataframe tbody tr th {\n",
       "        vertical-align: top;\n",
       "    }\n",
       "\n",
       "    .dataframe thead th {\n",
       "        text-align: right;\n",
       "    }\n",
       "</style>\n",
       "<table border=\"1\" class=\"dataframe\">\n",
       "  <thead>\n",
       "    <tr style=\"text-align: right;\">\n",
       "      <th></th>\n",
       "      <th>Rank</th>\n",
       "      <th>Username</th>\n",
       "      <th>Country</th>\n",
       "      <th>Followers</th>\n",
       "      <th>Views</th>\n",
       "      <th>Likes</th>\n",
       "      <th>Engagement</th>\n",
       "      <th>Brand Account</th>\n",
       "      <th>Gender</th>\n",
       "      <th>Age</th>\n",
       "      <th>Ethnicity</th>\n",
       "      <th>Famous</th>\n",
       "      <th>Genre</th>\n",
       "      <th>LGBTQ</th>\n",
       "    </tr>\n",
       "  </thead>\n",
       "  <tbody>\n",
       "    <tr>\n",
       "      <th>0</th>\n",
       "      <td>1</td>\n",
       "      <td>@charlidamelio</td>\n",
       "      <td>U.S.A</td>\n",
       "      <td>78.9m</td>\n",
       "      <td>38.3m</td>\n",
       "      <td>6.1m</td>\n",
       "      <td>16.60%</td>\n",
       "      <td>0</td>\n",
       "      <td>Female</td>\n",
       "      <td>16.0</td>\n",
       "      <td>White</td>\n",
       "      <td>0.0</td>\n",
       "      <td>Dancing, Lipsyncing, Lifestyle</td>\n",
       "      <td>0.0</td>\n",
       "    </tr>\n",
       "    <tr>\n",
       "      <th>1</th>\n",
       "      <td>2</td>\n",
       "      <td>@addisonre</td>\n",
       "      <td>U.S.A</td>\n",
       "      <td>53.7m</td>\n",
       "      <td>13.8m</td>\n",
       "      <td>2.8m</td>\n",
       "      <td>20.80%</td>\n",
       "      <td>0</td>\n",
       "      <td>Female</td>\n",
       "      <td>19.0</td>\n",
       "      <td>White</td>\n",
       "      <td>0.0</td>\n",
       "      <td>Dancing, Lipsyncing</td>\n",
       "      <td>0.0</td>\n",
       "    </tr>\n",
       "    <tr>\n",
       "      <th>2</th>\n",
       "      <td>3</td>\n",
       "      <td>@zachking</td>\n",
       "      <td>U.S.A</td>\n",
       "      <td>47.3m</td>\n",
       "      <td>17.6m</td>\n",
       "      <td>2.8m</td>\n",
       "      <td>16%</td>\n",
       "      <td>0</td>\n",
       "      <td>Male</td>\n",
       "      <td>30.0</td>\n",
       "      <td>East Asian</td>\n",
       "      <td>1.0</td>\n",
       "      <td>Comedy, Illusion</td>\n",
       "      <td>0.0</td>\n",
       "    </tr>\n",
       "    <tr>\n",
       "      <th>3</th>\n",
       "      <td>4</td>\n",
       "      <td>@lorengray</td>\n",
       "      <td>U.S.A</td>\n",
       "      <td>46.3m</td>\n",
       "      <td>3.2m</td>\n",
       "      <td>622.6k</td>\n",
       "      <td>19.70%</td>\n",
       "      <td>0</td>\n",
       "      <td>Female</td>\n",
       "      <td>18.0</td>\n",
       "      <td>White</td>\n",
       "      <td>1.0</td>\n",
       "      <td>Dancing, Lipsyncing</td>\n",
       "      <td>0.0</td>\n",
       "    </tr>\n",
       "    <tr>\n",
       "      <th>4</th>\n",
       "      <td>5</td>\n",
       "      <td>@tiktok</td>\n",
       "      <td>U.S.A</td>\n",
       "      <td>45.3m</td>\n",
       "      <td>9.4m</td>\n",
       "      <td>503.0k</td>\n",
       "      <td>5.60%</td>\n",
       "      <td>1</td>\n",
       "      <td>None</td>\n",
       "      <td>NaN</td>\n",
       "      <td>None</td>\n",
       "      <td>1.0</td>\n",
       "      <td>None</td>\n",
       "      <td>NaN</td>\n",
       "    </tr>\n",
       "  </tbody>\n",
       "</table>\n",
       "</div>"
      ],
      "text/plain": [
       "   Rank        Username Country Followers  Views   Likes Engagement  \\\n",
       "0     1  @charlidamelio   U.S.A     78.9m  38.3m    6.1m     16.60%   \n",
       "1     2      @addisonre   U.S.A     53.7m  13.8m    2.8m     20.80%   \n",
       "2     3       @zachking   U.S.A     47.3m  17.6m    2.8m        16%   \n",
       "3     4      @lorengray   U.S.A     46.3m   3.2m  622.6k     19.70%   \n",
       "4     5         @tiktok   U.S.A     45.3m   9.4m  503.0k      5.60%   \n",
       "\n",
       "   Brand Account  Gender   Age   Ethnicity  Famous  \\\n",
       "0              0  Female  16.0       White     0.0   \n",
       "1              0  Female  19.0       White     0.0   \n",
       "2              0    Male  30.0  East Asian     1.0   \n",
       "3              0  Female  18.0       White     1.0   \n",
       "4              1    None   NaN        None     1.0   \n",
       "\n",
       "                            Genre  LGBTQ  \n",
       "0  Dancing, Lipsyncing, Lifestyle    0.0  \n",
       "1             Dancing, Lipsyncing    0.0  \n",
       "2                Comedy, Illusion    0.0  \n",
       "3             Dancing, Lipsyncing    0.0  \n",
       "4                            None    NaN  "
      ]
     },
     "execution_count": 36,
     "metadata": {},
     "output_type": "execute_result"
    }
   ],
   "source": [
    "with sqlite3.connect('tiktok.db') as conn:\n",
    "    df = pd.read_sql_query(\"SELECT * FROM tiktok_data\", conn)\n",
    "\n",
    "print(\"Data loaded successfully. First 5 rows:\")\n",
    "df.head()"
   ]
  },
  {
   "cell_type": "markdown",
   "metadata": {},
   "source": [
    "## 3. Data Cleaning\n",
    "This cell handles all data cleaning tasks:\n",
    "1. Defines a helper function to convert string numbers (e.g., '1.2m') to numeric.\n",
    "2. Standardizes column names.\n",
    "3. Converts numeric-like columns from text to actual numbers. This is done safely to prevent errors on re-runs.\n"
   ]
  },
  {
   "cell_type": "code",
   "execution_count": null,
   "metadata": {},
   "outputs": [
    {
     "name": "stdout",
     "output_type": "stream",
     "text": [
      "Initial data cleaning and type conversion complete.\n",
      "<class 'pandas.core.frame.DataFrame'>\n",
      "RangeIndex: 256 entries, 0 to 255\n",
      "Data columns (total 14 columns):\n",
      " #   Column         Non-Null Count  Dtype  \n",
      "---  ------         --------------  -----  \n",
      " 0   rank           256 non-null    int64  \n",
      " 1   username       256 non-null    object \n",
      " 2   country        256 non-null    object \n",
      " 3   followers      256 non-null    float64\n",
      " 4   views          256 non-null    float64\n",
      " 5   likes          256 non-null    float64\n",
      " 6   engagement     256 non-null    float64\n",
      " 7   brand account  256 non-null    int64  \n",
      " 8   gender         232 non-null    object \n",
      " 9   age            225 non-null    float64\n",
      " 10  ethnicity      242 non-null    object \n",
      " 11  famous         255 non-null    float64\n",
      " 12  genre          254 non-null    object \n",
      " 13  lgbtq          239 non-null    float64\n",
      "dtypes: float64(7), int64(2), object(5)\n",
      "memory usage: 28.1+ KB\n"
     ]
    }
   ],
   "source": [
    "def convert_to_number(x):\n",
    "    if isinstance(x, str):\n",
    "        x = x.lower().replace(',', '')\n",
    "        if 'k' in x:\n",
    "            return float(x.replace('k', '')) * 1_000\n",
    "        elif 'm' in x:\n",
    "            return float(x.replace('m', '')) * 1_000_000\n",
    "    return float(x)\n",
    "\n",
    "df.columns = df.columns.str.lower().str.strip()\n",
    "\n",
    "\n",
    "for col in ['likes', 'followers', 'views']:\n",
    "    if df[col].dtype == 'object':\n",
    "        df[col] = df[col].apply(convert_to_number)\n",
    "\n",
    "if df['engagement'].dtype == 'object':\n",
    "    df['engagement'] = df['engagement'].str.replace('%', '').astype(float) / 100.0\n",
    "\n",
    "print(\"Initial data cleaning and type conversion complete.\")\n",
    "df.info()"
   ]
  },
  {
   "cell_type": "markdown",
   "metadata": {},
   "source": [
    "## 4. Feature Engineering & Data Splitting & Imputation\n",
    "This cell prepares the data for modeling:\n",
    "1. Uses `KNNImputer` to intelligently fill missing numeric values (like `age`).\n",
    "2. Uses `SimpleImputer` to fill missing categorical values with the most frequent one.\n",
    "3. Creates the `age_group` feature.\n",
    "4. Defines the feature matrix `X` and target vector `y`.\n",
    "5. Performs advanced one-hot encoding for the multi-label `genre` column.\n",
    "6. Performs standard one-hot encoding for all other categorical columns.\n",
    "7. Splits the final dataset into training and testing sets."
   ]
  },
  {
   "cell_type": "code",
   "execution_count": 39,
   "metadata": {},
   "outputs": [
    {
     "name": "stdout",
     "output_type": "stream",
     "text": [
      "Imputation complete on the feature set (X).\n",
      "Feature engineering and splitting complete.\n",
      "Training data shape: (204, 93)\n",
      "Test data shape: (52, 93)\n"
     ]
    }
   ],
   "source": [
    "x = df.drop('likes', axis=1)\n",
    "y = df['likes']\n",
    "\n",
    "num_cols = x.select_dtypes(include=np.number).columns\n",
    "cat_cols = x.select_dtypes(include=['object']).drop('username', axis=1).columns\n",
    "\n",
    "knn_imputer = KNNImputer(n_neighbors=5)\n",
    "df[num_cols] = pd.DataFrame(knn_imputer.fit_transform(df[num_cols]), columns=num_cols)\n",
    "\n",
    "cat_imputer = SimpleImputer(strategy='most_frequent')\n",
    "x[cat_cols] = cat_imputer.fit_transform(x[cat_cols])\n",
    "\n",
    "print(\"Imputation complete on the feature set (X).\")\n",
    "# 1. Feature Engineering\n",
    "bins = [0, 18, 40, 60, 100]\n",
    "labels = ['young', 'adult', 'middle-aged', 'senior']\n",
    "df['age_group'] = pd.cut(df['age'], bins=bins, labels=labels, right=False)\n",
    "\n",
    "# 2. Define Features (X) and Target (y)\n",
    "X = df.drop(['likes', 'username'], axis=1)\n",
    "y = df['likes']\n",
    "\n",
    "# 3. Advanced Categorical Encoding\n",
    "if 'genre' in X.columns:\n",
    "    genres = X['genre'].str.get_dummies(sep=',')\n",
    "    X = X.drop('genre', axis=1)\n",
    "    X = pd.concat([X, genres], axis=1)\n",
    "\n",
    "X_encoded = pd.get_dummies(X, drop_first=True)\n",
    "\n",
    "# 4. Data Splitting\n",
    "X_train, X_test, y_train, y_test = train_test_split(X_encoded, y, test_size=0.2, random_state=42)\n",
    "\n",
    "print(\"Feature engineering and splitting complete.\")\n",
    "print(f\"Training data shape: {X_train.shape}\")\n",
    "print(f\"Test data shape: {X_test.shape}\")"
   ]
  },
  {
   "cell_type": "markdown",
   "metadata": {},
   "source": [
    "## 5. Model Training and Evaluation\n",
    "We train our best-performing model (default XGBoost) and evaluate its performance."
   ]
  },
  {
   "cell_type": "code",
   "execution_count": null,
   "metadata": {},
   "outputs": [
    {
     "name": "stdout",
     "output_type": "stream",
     "text": [
      "--- XGBoost Model Performance ---\n",
      "Mean Absolute Error: 77,474.48\n",
      "R2 score: 94.50%\n"
     ]
    }
   ],
   "source": [
    "xgb_model = xgb.XGBRegressor(objective='reg:squarederror', random_state=42)\n",
    "xgb_model.fit(X_train, y_train)\n",
    "\n",
    "# Make predictions and evaluate\n",
    "y_pred_xgb = xgb_model.predict(X_test)\n",
    "\n",
    "print(\"--- XGBoost Model Performance ---\")\n",
    "print(f\"Mean Absolute Error: {mean_absolute_error(y_test, y_pred_xgb):,.2f}\")\n",
    "print(f\"R2 score: {r2_score(y_test, y_pred_xgb) * 100:.2f}%\")"
   ]
  },
  {
   "cell_type": "code",
   "execution_count": 40,
   "metadata": {},
   "outputs": [
    {
     "name": "stdout",
     "output_type": "stream",
     "text": [
      "All 10 cross-vlidation R2 scores (%):\\n [79.6  96.04 78.93 99.46 96.07 98.71 98.21 90.98 75.1  99.51]\n",
      "---\n",
      "Average R2 score: 91.26%\n",
      "Standard deviation : 9.13%\n"
     ]
    }
   ],
   "source": [
    "from sklearn.model_selection import cross_val_score\n",
    "import numpy as np\n",
    "\n",
    "xgb_model_for_cv = xgb.XGBRegressor(objective='reg:squarederror', random_state=42)\n",
    "\n",
    "cv_scores = cross_val_score(xgb_model_for_cv, X_encoded, y, cv=10, scoring='r2')\n",
    "cv_scores_percent = cv_scores * 100\n",
    "\n",
    "print(f\"All 10 cross-vlidation R2 scores (%):\\\\n {np.round(cv_scores_percent, 2)}\")\n",
    "print(\"---\")\n",
    "print(f\"Average R2 score: {cv_scores_percent.mean():.2f}%\")\n",
    "print(f\"Standard deviation : {cv_scores_percent.std():.2f}%\")"
   ]
  }
 ],
 "metadata": {
  "kernelspec": {
   "display_name": "tiktokenv",
   "language": "python",
   "name": "python3"
  },
  "language_info": {
   "codemirror_mode": {
    "name": "ipython",
    "version": 3
   },
   "file_extension": ".py",
   "mimetype": "text/x-python",
   "name": "python",
   "nbconvert_exporter": "python",
   "pygments_lexer": "ipython3",
   "version": "3.10.18"
  }
 },
 "nbformat": 4,
 "nbformat_minor": 2
}
